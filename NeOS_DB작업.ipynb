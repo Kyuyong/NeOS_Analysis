{
 "cells": [
  {
   "cell_type": "code",
   "execution_count": 34,
   "metadata": {},
   "outputs": [],
   "source": [
    "import os\n",
    "import pandas as pd\n",
    "import sqlite3"
   ]
  },
  {
   "cell_type": "code",
   "execution_count": 37,
   "metadata": {},
   "outputs": [],
   "source": [
    "# splite 파일 불러오기\n",
    "def open_sqlite(sqlite_file, sql_str):\n",
    "    conn = sqlite3.connect(sqlite_file)\n",
    "    ret = pd.read_sql(sql_str, conn)\n",
    "    conn.close()\n",
    "    return ret \n",
    "\n",
    "def save_sqlite(sqlite_file, table_name ,df):\n",
    "    conn = sqlite3.connect(sqlite_file)\n",
    "    df.to_sql(table_name, conn,if_exists='append')\n",
    "    conn.close()"
   ]
  },
  {
   "cell_type": "code",
   "execution_count": 55,
   "metadata": {},
   "outputs": [],
   "source": [
    "path = 'c:/Devs/Neos_anal/data/neos_excel/'\n",
    "data_list = os.listdir(path)\n",
    "\n",
    "df1 = pd.read_excel(path+data_list[0], encoding = 'euc-kr')\n",
    "df1 = pd.read_excel(path+data_list[0], encoding = 'euc-kr')\n",
    "df2 = pd.read_excel(path+data_list[1], encoding = 'euc-kr')\n",
    "df3 = pd.read_excel(path+data_list[2], encoding = 'euc-kr')\n",
    "df4 = pd.read_excel(path+data_list[3], encoding = 'euc-kr')\n",
    "df5 = pd.read_excel(path+data_list[4], encoding = 'euc-kr')\n",
    "df6 = pd.read_excel(path+data_list[5], encoding = 'euc-kr')\n",
    "df7 = pd.read_excel(path+data_list[6], encoding = 'euc-kr')\n",
    "df8 = pd.read_excel(path+data_list[7], encoding = 'euc-kr')\n",
    "df9 = pd.read_excel(path+data_list[8], encoding = 'euc-kr')\n",
    "df10 = pd.read_excel(path+data_list[9], encoding = 'euc-kr')\n",
    "df11 = pd.read_excel(path+data_list[10], encoding = 'euc-kr')\n",
    "df12 = pd.read_excel(path+data_list[11], encoding = 'euc-kr')\n",
    "df13 = pd.read_excel(path+data_list[12], encoding = 'euc-kr')\n",
    "df14 = pd.read_excel(path+data_list[13], encoding = 'euc-kr')\n",
    "df15 = pd.read_excel(path+data_list[14], encoding = 'euc-kr')\n",
    "df16 = pd.read_excel(path+data_list[15], encoding = 'euc-kr')\n",
    "df17 = pd.read_excel(path+data_list[16], encoding = 'euc-kr')\n",
    "df18 = pd.read_excel(path+data_list[17], encoding = 'euc-kr')\n",
    "df19 = pd.read_excel(path+data_list[18], encoding = 'euc-kr')\n",
    "df20 = pd.read_excel(path+data_list[19], encoding = 'euc-kr')\n",
    "df21 = pd.read_excel(path+data_list[20], encoding = 'euc-kr')\n",
    "df22 = pd.read_excel(path+data_list[21], encoding = 'euc-kr')"
   ]
  },
  {
   "cell_type": "code",
   "execution_count": 110,
   "metadata": {},
   "outputs": [],
   "source": [
    "df18 = df18[['일자', '작업',  '본부', '팀', '파트', '조', '담당업무', '사번',\n",
    "       '작업자', '동반자', '제목', '진행상태', '방문여부', '시설구분', '국소명', '공용대표시설코드',\n",
    "       '시스템', 'Type', '업무', '업무구분', '조치구분', '조치내역', '조치세부내역', '작업시간',\n",
    "       '시작시간', '종료시간', '텔레콤요청', '5G 업무', '기타시설명', '세부내역', '투입인력', '투입시간']]"
   ]
  },
  {
   "cell_type": "code",
   "execution_count": 111,
   "metadata": {},
   "outputs": [],
   "source": [
    "sqlite_file2 = 'c:/Devs/Neos_anal/sqlite_db/업무일지수합.db'\n",
    "\n",
    "save_sqlite(sqlite_file2, '일지', df22)"
   ]
  },
  {
   "cell_type": "code",
   "execution_count": 112,
   "metadata": {},
   "outputs": [],
   "source": [
    "save_sqlite(sqlite_file2, '일지', df2)\n",
    "save_sqlite(sqlite_file2, '일지', df3)\n",
    "save_sqlite(sqlite_file2, '일지', df4)\n",
    "save_sqlite(sqlite_file2, '일지', df5)\n",
    "save_sqlite(sqlite_file2, '일지', df6)\n",
    "save_sqlite(sqlite_file2, '일지', df7)\n",
    "save_sqlite(sqlite_file2, '일지', df8)\n",
    "save_sqlite(sqlite_file2, '일지', df9)\n",
    "save_sqlite(sqlite_file2, '일지', df10)\n",
    "save_sqlite(sqlite_file2, '일지', df11)\n",
    "save_sqlite(sqlite_file2, '일지', df12)\n",
    "save_sqlite(sqlite_file2, '일지', df13)\n",
    "save_sqlite(sqlite_file2, '일지', df14)\n",
    "save_sqlite(sqlite_file2, '일지', df15)\n",
    "save_sqlite(sqlite_file2, '일지', df16)\n",
    "save_sqlite(sqlite_file2, '일지', df17)\n",
    "save_sqlite(sqlite_file2, '일지', df18)\n",
    "save_sqlite(sqlite_file2, '일지', df19)\n",
    "save_sqlite(sqlite_file2, '일지', df20)\n",
    "save_sqlite(sqlite_file2, '일지', df21)"
   ]
  },
  {
   "cell_type": "code",
   "execution_count": null,
   "metadata": {},
   "outputs": [],
   "source": [
    " \n",
    "    "
   ]
  }
 ],
 "metadata": {
  "kernelspec": {
   "display_name": "Python 3",
   "language": "python",
   "name": "python3"
  },
  "language_info": {
   "codemirror_mode": {
    "name": "ipython",
    "version": 3
   },
   "file_extension": ".py",
   "mimetype": "text/x-python",
   "name": "python",
   "nbconvert_exporter": "python",
   "pygments_lexer": "ipython3",
   "version": "3.7.2"
  }
 },
 "nbformat": 4,
 "nbformat_minor": 4
}
